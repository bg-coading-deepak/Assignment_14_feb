{
 "cells": [
  {
   "cell_type": "markdown",
   "id": "3660fbfe",
   "metadata": {},
   "source": [
    "### Ques-No.1\n",
    "What is multithreading in python? why is it used? Name the module used to handle threads in python."
   ]
  },
  {
   "cell_type": "code",
   "execution_count": null,
   "id": "84e7d7c1",
   "metadata": {},
   "outputs": [],
   "source": [
    ">> Multithreading is a threading technique in Python programming to run multiple threads concurrently\n",
    "by rapidly switching between threads with a CPU help (called context switching).\n",
    "\n",
    ">>The main important application areas of multi threading are:\n",
    "    1.Multimedia Graphics\n",
    "    2.Animation\n",
    "    3.Video Games\n",
    "    4.Web Servers\n",
    "    5.Application Server\n",
    "    \n",
    ">> threading module is used for creating, controlling and managing threads in python.\n"
   ]
  },
  {
   "cell_type": "markdown",
   "id": "a0545f5a",
   "metadata": {},
   "source": [
    "### Ques-No.2\n",
    "why threading module used? write the use of the following functions.\n",
    "1.activeCount()\n",
    "2.currentThread()\n",
    "3.enumerate()"
   ]
  },
  {
   "cell_type": "code",
   "execution_count": null,
   "id": "b6871e9f",
   "metadata": {},
   "outputs": [],
   "source": [
    ">> The threading module provides,\n",
    "among other things, a Thread class which contains a run() method .\n",
    "Typical usage is to subclass the Thread class and override the run() method in the subclass to implement the desired functionality. In order to create a thread in Python\n",
    "you will want to make your class work as a thread.\n",
    "\n",
    "1.>> the method threading.active_count() from the threading module is used\n",
    "to count the currently active or running threads.\n",
    "\n",
    "Syntax:\n",
    "    threading.active_count()\n",
    "2.>>current_thread() is an inbuilt method of the threading module in Python\n",
    "It is used to return the current Thread object, which corresponds to the caller's thread of control.\n",
    "\n",
    "syntax:\n",
    "    current_thread()\n",
    "    \n",
    "3.>> threading.enumerate() returns a list of all Thread objects currently alive.\n",
    "The list includes daemonic threads, dummy thread objects created by current_thread(),\n",
    "and the main thread. It excludes terminated threads and threads that have not yet been started.\n",
    "\n"
   ]
  },
  {
   "cell_type": "markdown",
   "id": "8fa8a0ae",
   "metadata": {},
   "source": [
    "### Ques-No.3\n",
    "Explain the following functions\n",
    "1.run()\n",
    "2.start()\n",
    "3.join()\n",
    "4.isAlive()"
   ]
  },
  {
   "cell_type": "code",
   "execution_count": null,
   "id": "c76d465d",
   "metadata": {},
   "outputs": [],
   "source": [
    "1.run()\n",
    "\n",
    "The run() method of thread class is called if the thread was constructed using a\n",
    "separate Runnable object otherwise this method does nothing and returns. When the run() method calls,\n",
    "the code specified in the run() method is executed.\n",
    "\n",
    "2.start()\n",
    "\n",
    "start() method is an inbuilt method of the Thread class of the threading module in Python.\n",
    "It is used to start a thread's activity.\n",
    "This method calls the run() method internally which then executes the target method.\n",
    "This method must be called at most one time for one thread.\n",
    "\n",
    "3.aiAlive()\n",
    "\n",
    "Thread.is_alive() method is an inbuilt method of the Thread class of the threading module in Python.\n",
    "It uses a Thread object, and checks whether that thread is alive or not, ie,\n",
    "it is still running or not.\n",
    "This method returns True before the run() starts until just after the run() method is executed."
   ]
  },
  {
   "cell_type": "markdown",
   "id": "e58119a1",
   "metadata": {},
   "source": [
    "### Ques-No.4\n",
    "Write a python program to create two threads. Thread one must print the list of squares and thread\n",
    "two must print the list of cubes."
   ]
  },
  {
   "cell_type": "code",
   "execution_count": 61,
   "id": "0e091af1",
   "metadata": {
    "scrolled": true
   },
   "outputs": [
    {
     "name": "stdout",
     "output_type": "stream",
     "text": [
      "Square: 100\n",
      "Cube: 1728\n",
      "Done!\n"
     ]
    }
   ],
   "source": [
    "\n",
    "import threading\n",
    "\n",
    "\n",
    "def print_cube(num):\n",
    "    print(\"Cube: {}\" .format(num * num * num))\n",
    "\n",
    "\n",
    "def print_square(num):\n",
    "    print(\"Square: {}\" .format(num * num))\n",
    "\n",
    "\n",
    "if __name__ ==\"__main__\":\n",
    "    t1 = threading.Thread(target=print_square, args=(10,))\n",
    "    t2 = threading.Thread(target=print_cube, args=(12,))\n",
    "\n",
    "    t1.start()\n",
    "\n",
    "    t2.start()\n",
    "\n",
    "\n",
    "    t1.join()\n",
    "\n",
    "    t2.join()\n",
    "\n",
    "# both threads completely executed\n",
    "    print(\"Done!\")\n"
   ]
  },
  {
   "cell_type": "code",
   "execution_count": 69,
   "id": "ce0f7d4d",
   "metadata": {},
   "outputs": [
    {
     "name": "stdout",
     "output_type": "stream",
     "text": [
      "square 2500\n"
     ]
    }
   ],
   "source": [
    "print_square(50)"
   ]
  },
  {
   "cell_type": "markdown",
   "id": "c6a11dd3",
   "metadata": {},
   "source": [
    "### Ques-No.5\n",
    "State advantages and disadvantages of multithreading"
   ]
  },
  {
   "cell_type": "code",
   "execution_count": null,
   "id": "3b774253",
   "metadata": {},
   "outputs": [],
   "source": [
    ">>Advantage:-\n",
    "    \n",
    "1.Enhanced performance by decreased development time\n",
    "2.Simplified and streamlined program coding\n",
    "3.Improvised GUI responsiveness\n",
    "4.Simultaneous and parallelized occurrence of tasks\n",
    "5.Better use of cache storage by utilization of resources\n",
    "6.Decreased cost of maintenance\n",
    "7.Better use of CPU resource\n",
    "\n",
    ">>Disadvantage:-\n",
    "\n",
    "1.Complex debugging and testing processes\n",
    "2.Overhead switching of context\n",
    "3.Increased potential for deadlock occurrence\n",
    "4.Increased difficulty level in writing a program\n",
    "5.Unpredictable results"
   ]
  },
  {
   "cell_type": "markdown",
   "id": "35965a5f",
   "metadata": {},
   "source": [
    "### Ques-No.6\n",
    "Explain deadlocks and race conditions."
   ]
  },
  {
   "cell_type": "code",
   "execution_count": null,
   "id": "cc6270e0",
   "metadata": {},
   "outputs": [],
   "source": [
    ">> A deadlock occurs when two threads each lock a different variable at the\n",
    "same time and then try to lock the variable that the other thread already locked.\n",
    "As a result, each thread stops executing and waits for the other thread to release the variable."
   ]
  }
 ],
 "metadata": {
  "kernelspec": {
   "display_name": "Python 3 (ipykernel)",
   "language": "python",
   "name": "python3"
  },
  "language_info": {
   "codemirror_mode": {
    "name": "ipython",
    "version": 3
   },
   "file_extension": ".py",
   "mimetype": "text/x-python",
   "name": "python",
   "nbconvert_exporter": "python",
   "pygments_lexer": "ipython3",
   "version": "3.9.12"
  }
 },
 "nbformat": 4,
 "nbformat_minor": 5
}
